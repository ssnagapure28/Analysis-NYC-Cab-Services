{
 "cells": [
  {
   "cell_type": "code",
   "execution_count": 2,
   "id": "0433182c-1070-4f4f-bbe0-278e1bcd1736",
   "metadata": {},
   "outputs": [],
   "source": [
    "import pandas as pd\n",
    "import numpy as np\n",
    "import os\n"
   ]
  },
  {
   "cell_type": "markdown",
   "id": "6c75dd86-4dca-47e5-8152-b62abc88d8fb",
   "metadata": {
    "jp-MarkdownHeadingCollapsed": true
   },
   "source": [
    "## Yellow"
   ]
  },
  {
   "cell_type": "code",
   "execution_count": 78,
   "id": "d45402df-a612-4e27-8368-5e74c12fe03a",
   "metadata": {},
   "outputs": [],
   "source": [
    "# Specify the directory containing the Parquet files\n",
    "directory_path_yellow = 'C:/Users/hitsingh/Desktop/DSF/trips/yellow'"
   ]
  },
  {
   "cell_type": "code",
   "execution_count": 79,
   "id": "b9de1344-9319-4119-b667-1cc1b975c858",
   "metadata": {},
   "outputs": [
    {
     "data": {
      "text/plain": [
       "['yellow_tripdata_2022-01.parquet',\n",
       " 'yellow_tripdata_2022-02.parquet',\n",
       " 'yellow_tripdata_2022-03.parquet',\n",
       " 'yellow_tripdata_2022-04.parquet',\n",
       " 'yellow_tripdata_2022-05.parquet',\n",
       " 'yellow_tripdata_2022-06.parquet',\n",
       " 'yellow_tripdata_2022-07.parquet',\n",
       " 'yellow_tripdata_2022-08.parquet',\n",
       " 'yellow_tripdata_2022-09.parquet',\n",
       " 'yellow_tripdata_2022-10.parquet',\n",
       " 'yellow_tripdata_2022-11.parquet',\n",
       " 'yellow_tripdata_2022-12.parquet']"
      ]
     },
     "execution_count": 79,
     "metadata": {},
     "output_type": "execute_result"
    }
   ],
   "source": [
    "# Get a list of all Parquet files in the directory\n",
    "parquet_files = [file for file in os.listdir(directory_path_yellow) if file.endswith('.parquet')]\n",
    "parquet_files"
   ]
  },
  {
   "cell_type": "code",
   "execution_count": 80,
   "id": "e1ec3843-3cee-4891-9fd3-de74a341f9b2",
   "metadata": {},
   "outputs": [],
   "source": [
    "# Initialize an empty DataFrame to store the merged data\n",
    "merged_df = pd.DataFrame()"
   ]
  },
  {
   "cell_type": "code",
   "execution_count": 81,
   "id": "e06076c1-45a2-4015-8785-e81cd181d184",
   "metadata": {},
   "outputs": [],
   "source": []
  },
  {
   "cell_type": "code",
   "execution_count": 82,
   "id": "9f7c3773-dfcb-44cd-9fcb-4d3ff58f58d3",
   "metadata": {},
   "outputs": [],
   "source": [
    "columns_yellow = ['VendorID', 'trip_time','trip_distance',\n",
    "       'passenger_count',  'PULocationID', 'DOLocationID',  'RatecodeID', \"day_of_week\", \"hour_of_day\" , \"trip_fair\"]"
   ]
  },
  {
   "cell_type": "code",
   "execution_count": 84,
   "id": "c09f3bcb-2064-4c2e-af56-0441da0968a9",
   "metadata": {},
   "outputs": [
    {
     "name": "stdout",
     "output_type": "stream",
     "text": [
      "yellow_tripdata_2022-01.parquet\n",
      "yellow_tripdata_2022-02.parquet\n",
      "yellow_tripdata_2022-03.parquet\n",
      "yellow_tripdata_2022-04.parquet\n",
      "yellow_tripdata_2022-05.parquet\n",
      "yellow_tripdata_2022-06.parquet\n",
      "yellow_tripdata_2022-07.parquet\n",
      "yellow_tripdata_2022-08.parquet\n",
      "yellow_tripdata_2022-09.parquet\n",
      "yellow_tripdata_2022-10.parquet\n",
      "yellow_tripdata_2022-11.parquet\n",
      "yellow_tripdata_2022-12.parquet\n"
     ]
    }
   ],
   "source": [
    "# # Iterate through each Parquet file and append its content to the merged DataFrame\n",
    "for file in parquet_files:\n",
    "    file_path = os.path.join(directory_path_yellow, file)\n",
    "    df = pd.read_parquet(file_path)\n",
    "    df['tpep_pickup_datetime'] = pd.to_datetime(df['tpep_pickup_datetime'])\n",
    "    df['tpep_dropoff_datetime'] = pd.to_datetime(df['tpep_dropoff_datetime'])\n",
    "\n",
    "    df['trip_time'] = (df['tpep_dropoff_datetime'] - df['tpep_pickup_datetime']).dt.total_seconds() / 60\n",
    "    df['trip_fair'] = df['fare_amount'] + df['extra'] + df['tip_amount']\n",
    "    df['day_of_week'] = df['tpep_pickup_datetime'].dt.dayofweek + 1\n",
    "    df['hour_of_day'] = df['tpep_pickup_datetime'].dt.hour\n",
    "    df = df[columns_yellow]\n",
    "    # df = df.drop(columns=columns_to_remove, errors='ignore')\n",
    "    # df = df.dropna()\n",
    "    merged_df = pd.concat([merged_df, df], ignore_index=True)\n",
    "    print(file)\n",
    "\n",
    "# # Display the merged DataFrame"
   ]
  },
  {
   "cell_type": "code",
   "execution_count": 85,
   "id": "7a23f10a-6fb5-4be1-b001-e06a00f8aac7",
   "metadata": {},
   "outputs": [
    {
     "data": {
      "text/html": [
       "<div>\n",
       "<style scoped>\n",
       "    .dataframe tbody tr th:only-of-type {\n",
       "        vertical-align: middle;\n",
       "    }\n",
       "\n",
       "    .dataframe tbody tr th {\n",
       "        vertical-align: top;\n",
       "    }\n",
       "\n",
       "    .dataframe thead th {\n",
       "        text-align: right;\n",
       "    }\n",
       "</style>\n",
       "<table border=\"1\" class=\"dataframe\">\n",
       "  <thead>\n",
       "    <tr style=\"text-align: right;\">\n",
       "      <th></th>\n",
       "      <th>VendorID</th>\n",
       "      <th>trip_time</th>\n",
       "      <th>trip_distance</th>\n",
       "      <th>passenger_count</th>\n",
       "      <th>PULocationID</th>\n",
       "      <th>DOLocationID</th>\n",
       "      <th>RatecodeID</th>\n",
       "      <th>day_of_week</th>\n",
       "      <th>hour_of_day</th>\n",
       "      <th>trip_fair</th>\n",
       "    </tr>\n",
       "  </thead>\n",
       "  <tbody>\n",
       "    <tr>\n",
       "      <th>0</th>\n",
       "      <td>1</td>\n",
       "      <td>17.816667</td>\n",
       "      <td>3.80</td>\n",
       "      <td>2.0</td>\n",
       "      <td>142</td>\n",
       "      <td>236</td>\n",
       "      <td>1.0</td>\n",
       "      <td>6</td>\n",
       "      <td>0</td>\n",
       "      <td>21.15</td>\n",
       "    </tr>\n",
       "    <tr>\n",
       "      <th>1</th>\n",
       "      <td>1</td>\n",
       "      <td>8.400000</td>\n",
       "      <td>2.10</td>\n",
       "      <td>1.0</td>\n",
       "      <td>236</td>\n",
       "      <td>42</td>\n",
       "      <td>1.0</td>\n",
       "      <td>6</td>\n",
       "      <td>0</td>\n",
       "      <td>12.50</td>\n",
       "    </tr>\n",
       "    <tr>\n",
       "      <th>2</th>\n",
       "      <td>2</td>\n",
       "      <td>8.966667</td>\n",
       "      <td>0.97</td>\n",
       "      <td>1.0</td>\n",
       "      <td>166</td>\n",
       "      <td>166</td>\n",
       "      <td>1.0</td>\n",
       "      <td>6</td>\n",
       "      <td>0</td>\n",
       "      <td>9.76</td>\n",
       "    </tr>\n",
       "    <tr>\n",
       "      <th>3</th>\n",
       "      <td>2</td>\n",
       "      <td>10.033333</td>\n",
       "      <td>1.09</td>\n",
       "      <td>1.0</td>\n",
       "      <td>114</td>\n",
       "      <td>68</td>\n",
       "      <td>1.0</td>\n",
       "      <td>6</td>\n",
       "      <td>0</td>\n",
       "      <td>8.50</td>\n",
       "    </tr>\n",
       "    <tr>\n",
       "      <th>4</th>\n",
       "      <td>2</td>\n",
       "      <td>37.533333</td>\n",
       "      <td>4.30</td>\n",
       "      <td>1.0</td>\n",
       "      <td>68</td>\n",
       "      <td>163</td>\n",
       "      <td>1.0</td>\n",
       "      <td>6</td>\n",
       "      <td>0</td>\n",
       "      <td>27.00</td>\n",
       "    </tr>\n",
       "  </tbody>\n",
       "</table>\n",
       "</div>"
      ],
      "text/plain": [
       "   VendorID  trip_time  trip_distance  passenger_count  PULocationID  \\\n",
       "0         1  17.816667           3.80              2.0           142   \n",
       "1         1   8.400000           2.10              1.0           236   \n",
       "2         2   8.966667           0.97              1.0           166   \n",
       "3         2  10.033333           1.09              1.0           114   \n",
       "4         2  37.533333           4.30              1.0            68   \n",
       "\n",
       "   DOLocationID  RatecodeID  day_of_week  hour_of_day  trip_fair  \n",
       "0           236         1.0            6            0      21.15  \n",
       "1            42         1.0            6            0      12.50  \n",
       "2           166         1.0            6            0       9.76  \n",
       "3            68         1.0            6            0       8.50  \n",
       "4           163         1.0            6            0      27.00  "
      ]
     },
     "execution_count": 85,
     "metadata": {},
     "output_type": "execute_result"
    }
   ],
   "source": [
    "merged_df.head()"
   ]
  },
  {
   "cell_type": "code",
   "execution_count": 86,
   "id": "6985333d-058e-4c0f-83e4-7dbf687abc43",
   "metadata": {},
   "outputs": [],
   "source": [
    "merged_df.to_pickle(\"trips/pickle_all/yellow_merged.pkl\")"
   ]
  },
  {
   "cell_type": "markdown",
   "id": "2e7c8ec8-9899-44e1-986a-52a0f0078a7a",
   "metadata": {},
   "source": [
    "## Green"
   ]
  },
  {
   "cell_type": "code",
   "execution_count": 88,
   "id": "e4003e83-a67c-4ae2-a785-c4a0a1fdea10",
   "metadata": {},
   "outputs": [],
   "source": [
    "directory_path_green = 'C:/Users/hitsingh/Desktop/DSF/trips/green'"
   ]
  },
  {
   "cell_type": "code",
   "execution_count": 89,
   "id": "07de66de-c6e6-43a4-9df1-9db5cd021f6c",
   "metadata": {},
   "outputs": [
    {
     "data": {
      "text/plain": [
       "['green_tripdata_2022-01.parquet',\n",
       " 'green_tripdata_2022-02.parquet',\n",
       " 'green_tripdata_2022-03.parquet',\n",
       " 'green_tripdata_2022-04.parquet',\n",
       " 'green_tripdata_2022-05.parquet',\n",
       " 'green_tripdata_2022-06.parquet',\n",
       " 'green_tripdata_2022-07.parquet',\n",
       " 'green_tripdata_2022-08.parquet',\n",
       " 'green_tripdata_2022-09.parquet',\n",
       " 'green_tripdata_2022-10.parquet',\n",
       " 'green_tripdata_2022-11.parquet',\n",
       " 'green_tripdata_2022-12.parquet']"
      ]
     },
     "execution_count": 89,
     "metadata": {},
     "output_type": "execute_result"
    }
   ],
   "source": [
    "parquet_files = [file for file in os.listdir(directory_path_green) if file.endswith('.parquet')]\n",
    "parquet_files"
   ]
  },
  {
   "cell_type": "code",
   "execution_count": 90,
   "id": "311dfa71-fc31-421a-bdf9-e00f2b81c147",
   "metadata": {},
   "outputs": [],
   "source": [
    "merged_df = pd.DataFrame()"
   ]
  },
  {
   "cell_type": "code",
   "execution_count": 91,
   "id": "d66ef630-4a37-442a-b160-6a5705a9a363",
   "metadata": {},
   "outputs": [],
   "source": [
    "columns_green = ['VendorID', 'trip_time','trip_distance',\n",
    "       'passenger_count',  'PULocationID', 'DOLocationID',  'RatecodeID', \"day_of_week\", \"hour_of_day\" ,\"trip_type\", \"trip_fair\"]"
   ]
  },
  {
   "cell_type": "code",
   "execution_count": 95,
   "id": "38304b4d-4bf6-4398-8e40-a5254ebe5b3d",
   "metadata": {},
   "outputs": [
    {
     "name": "stdout",
     "output_type": "stream",
     "text": [
      "green_tripdata_2022-01.parquet\n",
      "green_tripdata_2022-02.parquet\n",
      "green_tripdata_2022-03.parquet\n",
      "green_tripdata_2022-04.parquet\n",
      "green_tripdata_2022-05.parquet\n",
      "green_tripdata_2022-06.parquet\n",
      "green_tripdata_2022-07.parquet\n",
      "green_tripdata_2022-08.parquet\n",
      "green_tripdata_2022-09.parquet\n",
      "green_tripdata_2022-10.parquet\n",
      "green_tripdata_2022-11.parquet\n",
      "green_tripdata_2022-12.parquet\n"
     ]
    }
   ],
   "source": [
    "# # Iterate through each Parquet file and append its content to the merged DataFrame\n",
    "for file in parquet_files:\n",
    "    file_path = os.path.join(directory_path_green, file)\n",
    "    df = pd.read_parquet(file_path)\n",
    "    # break\n",
    "    df['lpep_pickup_datetime'] = pd.to_datetime(df['lpep_pickup_datetime'])\n",
    "    df['lpep_dropoff_datetime'] = pd.to_datetime(df['lpep_dropoff_datetime'])\n",
    "\n",
    "    df['trip_time'] = (df['lpep_dropoff_datetime'] - df['lpep_pickup_datetime']).dt.total_seconds() / 60\n",
    "    df['trip_fair'] = df['fare_amount'] + df['extra'] + df['tip_amount']\n",
    "    df['day_of_week'] = df['lpep_pickup_datetime'].dt.dayofweek + 1\n",
    "    df['hour_of_day'] = df['lpep_pickup_datetime'].dt.hour\n",
    "    df = df[columns_green]\n",
    "    # df = df.drop(columns=columns_to_remove, errors='ignore')\n",
    "    # df = df.dropna()\n",
    "    # break\n",
    "    merged_df = pd.concat([merged_df, df], ignore_index=True)\n",
    "    print(file)"
   ]
  },
  {
   "cell_type": "code",
   "execution_count": 96,
   "id": "03155a82-12d5-4892-b998-447347dd39ac",
   "metadata": {},
   "outputs": [
    {
     "data": {
      "text/html": [
       "<div>\n",
       "<style scoped>\n",
       "    .dataframe tbody tr th:only-of-type {\n",
       "        vertical-align: middle;\n",
       "    }\n",
       "\n",
       "    .dataframe tbody tr th {\n",
       "        vertical-align: top;\n",
       "    }\n",
       "\n",
       "    .dataframe thead th {\n",
       "        text-align: right;\n",
       "    }\n",
       "</style>\n",
       "<table border=\"1\" class=\"dataframe\">\n",
       "  <thead>\n",
       "    <tr style=\"text-align: right;\">\n",
       "      <th></th>\n",
       "      <th>VendorID</th>\n",
       "      <th>trip_time</th>\n",
       "      <th>trip_distance</th>\n",
       "      <th>passenger_count</th>\n",
       "      <th>PULocationID</th>\n",
       "      <th>DOLocationID</th>\n",
       "      <th>RatecodeID</th>\n",
       "      <th>day_of_week</th>\n",
       "      <th>hour_of_day</th>\n",
       "      <th>trip_type</th>\n",
       "      <th>trip_fair</th>\n",
       "    </tr>\n",
       "  </thead>\n",
       "  <tbody>\n",
       "    <tr>\n",
       "      <th>0</th>\n",
       "      <td>2</td>\n",
       "      <td>1.200000</td>\n",
       "      <td>0.44</td>\n",
       "      <td>1.0</td>\n",
       "      <td>42</td>\n",
       "      <td>42</td>\n",
       "      <td>1.0</td>\n",
       "      <td>6</td>\n",
       "      <td>0</td>\n",
       "      <td>1.0</td>\n",
       "      <td>4.00</td>\n",
       "    </tr>\n",
       "    <tr>\n",
       "      <th>1</th>\n",
       "      <td>1</td>\n",
       "      <td>8.716667</td>\n",
       "      <td>2.10</td>\n",
       "      <td>1.0</td>\n",
       "      <td>116</td>\n",
       "      <td>41</td>\n",
       "      <td>1.0</td>\n",
       "      <td>6</td>\n",
       "      <td>0</td>\n",
       "      <td>1.0</td>\n",
       "      <td>10.00</td>\n",
       "    </tr>\n",
       "    <tr>\n",
       "      <th>2</th>\n",
       "      <td>1</td>\n",
       "      <td>16.200000</td>\n",
       "      <td>3.70</td>\n",
       "      <td>1.0</td>\n",
       "      <td>41</td>\n",
       "      <td>140</td>\n",
       "      <td>1.0</td>\n",
       "      <td>6</td>\n",
       "      <td>0</td>\n",
       "      <td>1.0</td>\n",
       "      <td>22.35</td>\n",
       "    </tr>\n",
       "    <tr>\n",
       "      <th>3</th>\n",
       "      <td>2</td>\n",
       "      <td>8.250000</td>\n",
       "      <td>1.69</td>\n",
       "      <td>1.0</td>\n",
       "      <td>181</td>\n",
       "      <td>181</td>\n",
       "      <td>1.0</td>\n",
       "      <td>6</td>\n",
       "      <td>0</td>\n",
       "      <td>1.0</td>\n",
       "      <td>8.50</td>\n",
       "    </tr>\n",
       "    <tr>\n",
       "      <th>4</th>\n",
       "      <td>2</td>\n",
       "      <td>21.033333</td>\n",
       "      <td>6.26</td>\n",
       "      <td>1.0</td>\n",
       "      <td>33</td>\n",
       "      <td>170</td>\n",
       "      <td>1.0</td>\n",
       "      <td>6</td>\n",
       "      <td>0</td>\n",
       "      <td>1.0</td>\n",
       "      <td>27.71</td>\n",
       "    </tr>\n",
       "  </tbody>\n",
       "</table>\n",
       "</div>"
      ],
      "text/plain": [
       "   VendorID  trip_time  trip_distance  passenger_count  PULocationID  \\\n",
       "0         2   1.200000           0.44              1.0            42   \n",
       "1         1   8.716667           2.10              1.0           116   \n",
       "2         1  16.200000           3.70              1.0            41   \n",
       "3         2   8.250000           1.69              1.0           181   \n",
       "4         2  21.033333           6.26              1.0            33   \n",
       "\n",
       "   DOLocationID  RatecodeID  day_of_week  hour_of_day  trip_type  trip_fair  \n",
       "0            42         1.0            6            0        1.0       4.00  \n",
       "1            41         1.0            6            0        1.0      10.00  \n",
       "2           140         1.0            6            0        1.0      22.35  \n",
       "3           181         1.0            6            0        1.0       8.50  \n",
       "4           170         1.0            6            0        1.0      27.71  "
      ]
     },
     "execution_count": 96,
     "metadata": {},
     "output_type": "execute_result"
    }
   ],
   "source": [
    "merged_df.head()"
   ]
  },
  {
   "cell_type": "code",
   "execution_count": 97,
   "id": "7f4c8367-720d-4326-825c-8ae6bd971e68",
   "metadata": {},
   "outputs": [],
   "source": [
    "merged_df.to_pickle(\"trips/pickle_all/green_merged.pkl\")\n"
   ]
  },
  {
   "cell_type": "markdown",
   "id": "a6c27532-5926-4671-97c0-a9fe241e962a",
   "metadata": {},
   "source": [
    "## HVFHV"
   ]
  },
  {
   "cell_type": "code",
   "execution_count": 3,
   "id": "a2745826-c320-43f6-b062-91a4661c388c",
   "metadata": {},
   "outputs": [
    {
     "data": {
      "text/plain": [
       "['fhvhv_tripdata_2022-01.parquet',\n",
       " 'fhvhv_tripdata_2022-02.parquet',\n",
       " 'fhvhv_tripdata_2022-03.parquet',\n",
       " 'fhvhv_tripdata_2022-04.parquet',\n",
       " 'fhvhv_tripdata_2022-05.parquet',\n",
       " 'fhvhv_tripdata_2022-06.parquet',\n",
       " 'fhvhv_tripdata_2022-07.parquet',\n",
       " 'fhvhv_tripdata_2022-08.parquet',\n",
       " 'fhvhv_tripdata_2022-09.parquet',\n",
       " 'fhvhv_tripdata_2022-10.parquet',\n",
       " 'fhvhv_tripdata_2022-11.parquet',\n",
       " 'fhvhv_tripdata_2022-12.parquet']"
      ]
     },
     "execution_count": 3,
     "metadata": {},
     "output_type": "execute_result"
    }
   ],
   "source": [
    "directory_path_hvfhv = 'C:/Users/hitsingh/Desktop/DSF/trips/hvfhv'\n",
    "parquet_files = [file for file in os.listdir(directory_path_hvfhv) if file.endswith('.parquet')]\n",
    "parquet_files"
   ]
  },
  {
   "cell_type": "code",
   "execution_count": 4,
   "id": "6d5e5143-1e1d-47c6-81d1-6bbf8ea923fa",
   "metadata": {},
   "outputs": [],
   "source": [
    "merged_df = pd.DataFrame()"
   ]
  },
  {
   "cell_type": "code",
   "execution_count": 5,
   "id": "45fe5bb1-4765-4d1e-8db4-0cf01554e4a4",
   "metadata": {},
   "outputs": [],
   "source": [
    "columns_to_remove = ['dispatching_base_num', 'originating_base_num',\n",
    "       'access_a_ride_flag', 'tolls', 'bcf', 'sales_tax', \"request_datetime\",\"on_scene_datetime\",\"pickup_datetime\",\"dropoff_datetime\",\n",
    "        \"base_passenger_fare\"\t,\"tips\"\t,\"driver_pay\",\n",
    "       'congestion_surcharge', 'airport_fee', \"shared_request_flag\"\t,\"shared_match_flag\",\t\"wav_request_flag\"\t,\"wav_match_flag\"]\n",
    "# replacement_mapping = {'HV0002': 1, 'HV0003': 2, 'HV0004': 3, 'HV0005': 4}\n",
    "replacement_mapping = {'HV0002': \"Juno\", 'HV0003': \"Uber\", 'HV0004': \"Via\", 'HV0005': \"Lyft\"}\n"
   ]
  },
  {
   "cell_type": "code",
   "execution_count": 6,
   "id": "543453d5-9f33-43e3-8d3b-246c3d618590",
   "metadata": {},
   "outputs": [
    {
     "name": "stdout",
     "output_type": "stream",
     "text": [
      "fhvhv_tripdata_2022-01.parquet\n",
      "fhvhv_tripdata_2022-02.parquet\n",
      "fhvhv_tripdata_2022-03.parquet\n",
      "fhvhv_tripdata_2022-04.parquet\n",
      "fhvhv_tripdata_2022-05.parquet\n",
      "fhvhv_tripdata_2022-06.parquet\n",
      "fhvhv_tripdata_2022-07.parquet\n",
      "fhvhv_tripdata_2022-08.parquet\n",
      "fhvhv_tripdata_2022-09.parquet\n",
      "fhvhv_tripdata_2022-10.parquet\n",
      "fhvhv_tripdata_2022-11.parquet\n",
      "fhvhv_tripdata_2022-12.parquet\n"
     ]
    }
   ],
   "source": [
    "# # Iterate through each Parquet file and append its content to the merged DataFrame\n",
    "for file in parquet_files:\n",
    "    file_path = os.path.join(directory_path_hvfhv, file)\n",
    "    df = pd.read_parquet(file_path)\n",
    "    df['hvfhs_license_num'] = df['hvfhs_license_num'].replace(replacement_mapping)\n",
    "    \n",
    "    df['trip_time'] = df['trip_time']/60\n",
    "    df['day_of_week'] = df['pickup_datetime'].dt.dayofweek + 1\n",
    "    df['hour_of_day'] = df['pickup_datetime'].dt.hour\n",
    "    df['wait_time'] = (df['on_scene_datetime'] - df['request_datetime']).dt.total_seconds() / 60\n",
    "    \n",
    "    df['trip_fair'] = df['driver_pay'] + df['tips']\n",
    "    df = df.drop(columns=columns_to_remove, errors='ignore')\n",
    "    df = df.dropna()\n",
    "    # break\n",
    "    \n",
    "    # df = df[columns_green]\n",
    "    \n",
    "    # break\n",
    "    merged_df = pd.concat([merged_df, df], ignore_index=True)\n",
    "    print(file)"
   ]
  },
  {
   "cell_type": "code",
   "execution_count": 7,
   "id": "3ee43907-e5b6-42ff-831c-06435cb3e749",
   "metadata": {},
   "outputs": [
    {
     "data": {
      "text/html": [
       "<div>\n",
       "<style scoped>\n",
       "    .dataframe tbody tr th:only-of-type {\n",
       "        vertical-align: middle;\n",
       "    }\n",
       "\n",
       "    .dataframe tbody tr th {\n",
       "        vertical-align: top;\n",
       "    }\n",
       "\n",
       "    .dataframe thead th {\n",
       "        text-align: right;\n",
       "    }\n",
       "</style>\n",
       "<table border=\"1\" class=\"dataframe\">\n",
       "  <thead>\n",
       "    <tr style=\"text-align: right;\">\n",
       "      <th></th>\n",
       "      <th>hvfhs_license_num</th>\n",
       "      <th>PULocationID</th>\n",
       "      <th>DOLocationID</th>\n",
       "      <th>trip_miles</th>\n",
       "      <th>trip_time</th>\n",
       "      <th>day_of_week</th>\n",
       "      <th>hour_of_day</th>\n",
       "      <th>wait_time</th>\n",
       "      <th>trip_fair</th>\n",
       "    </tr>\n",
       "  </thead>\n",
       "  <tbody>\n",
       "    <tr>\n",
       "      <th>0</th>\n",
       "      <td>Uber</td>\n",
       "      <td>170</td>\n",
       "      <td>161</td>\n",
       "      <td>1.18</td>\n",
       "      <td>11.066667</td>\n",
       "      <td>6</td>\n",
       "      <td>0</td>\n",
       "      <td>0.150000</td>\n",
       "      <td>23.03</td>\n",
       "    </tr>\n",
       "    <tr>\n",
       "      <th>1</th>\n",
       "      <td>Uber</td>\n",
       "      <td>237</td>\n",
       "      <td>161</td>\n",
       "      <td>0.82</td>\n",
       "      <td>7.666667</td>\n",
       "      <td>6</td>\n",
       "      <td>0</td>\n",
       "      <td>2.683333</td>\n",
       "      <td>12.32</td>\n",
       "    </tr>\n",
       "    <tr>\n",
       "      <th>2</th>\n",
       "      <td>Uber</td>\n",
       "      <td>237</td>\n",
       "      <td>161</td>\n",
       "      <td>1.18</td>\n",
       "      <td>9.916667</td>\n",
       "      <td>6</td>\n",
       "      <td>0</td>\n",
       "      <td>13.733333</td>\n",
       "      <td>23.30</td>\n",
       "    </tr>\n",
       "    <tr>\n",
       "      <th>3</th>\n",
       "      <td>Uber</td>\n",
       "      <td>262</td>\n",
       "      <td>229</td>\n",
       "      <td>1.65</td>\n",
       "      <td>5.050000</td>\n",
       "      <td>6</td>\n",
       "      <td>0</td>\n",
       "      <td>1.533333</td>\n",
       "      <td>6.30</td>\n",
       "    </tr>\n",
       "    <tr>\n",
       "      <th>4</th>\n",
       "      <td>Uber</td>\n",
       "      <td>229</td>\n",
       "      <td>141</td>\n",
       "      <td>1.65</td>\n",
       "      <td>7.683333</td>\n",
       "      <td>6</td>\n",
       "      <td>0</td>\n",
       "      <td>0.266667</td>\n",
       "      <td>7.44</td>\n",
       "    </tr>\n",
       "  </tbody>\n",
       "</table>\n",
       "</div>"
      ],
      "text/plain": [
       "  hvfhs_license_num  PULocationID  DOLocationID  trip_miles  trip_time  \\\n",
       "0              Uber           170           161        1.18  11.066667   \n",
       "1              Uber           237           161        0.82   7.666667   \n",
       "2              Uber           237           161        1.18   9.916667   \n",
       "3              Uber           262           229        1.65   5.050000   \n",
       "4              Uber           229           141        1.65   7.683333   \n",
       "\n",
       "   day_of_week  hour_of_day  wait_time  trip_fair  \n",
       "0            6            0   0.150000      23.03  \n",
       "1            6            0   2.683333      12.32  \n",
       "2            6            0  13.733333      23.30  \n",
       "3            6            0   1.533333       6.30  \n",
       "4            6            0   0.266667       7.44  "
      ]
     },
     "execution_count": 7,
     "metadata": {},
     "output_type": "execute_result"
    }
   ],
   "source": [
    "merged_df.head()"
   ]
  },
  {
   "cell_type": "code",
   "execution_count": 8,
   "id": "6b00123d-5c55-43f4-aa71-edee94a7b19d",
   "metadata": {},
   "outputs": [],
   "source": [
    "merged_df.to_pickle(\"trips/pickle_all/hvhfv_merged.pkl\")\n"
   ]
  },
  {
   "cell_type": "code",
   "execution_count": null,
   "id": "7788000d-fab1-40c4-9f52-be991f23344e",
   "metadata": {},
   "outputs": [],
   "source": []
  },
  {
   "cell_type": "code",
   "execution_count": null,
   "id": "fb4f0f67-c5c1-4d89-af36-c56083e2102b",
   "metadata": {},
   "outputs": [],
   "source": []
  }
 ],
 "metadata": {
  "kernelspec": {
   "display_name": "Python 3 (ipykernel)",
   "language": "python",
   "name": "python3"
  },
  "language_info": {
   "codemirror_mode": {
    "name": "ipython",
    "version": 3
   },
   "file_extension": ".py",
   "mimetype": "text/x-python",
   "name": "python",
   "nbconvert_exporter": "python",
   "pygments_lexer": "ipython3",
   "version": "3.10.0"
  }
 },
 "nbformat": 4,
 "nbformat_minor": 5
}
